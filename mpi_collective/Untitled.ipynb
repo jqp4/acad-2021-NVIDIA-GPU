{
 "cells": [
  {
   "cell_type": "code",
   "execution_count": 260,
   "metadata": {
    "scrolled": true
   },
   "outputs": [
    {
     "name": "stdout",
     "output_type": "stream",
     "text": [
      "   Lomonosov-2 supercomputer welcomes you!\n",
      "\n",
      "\n",
      "barrier.txt                                   100% 2344   255.8KB/s   00:00    \n",
      "barrier.csv                                   100%  973    40.1KB/s   00:00    \n",
      "   Lomonosov-2 supercomputer welcomes you!\n",
      "\n",
      "\n",
      "alltoall.csv                                  100%  417    20.8KB/s   00:00    \n",
      "alltoall.txt                                  100%  483    60.5KB/s   00:00    \n",
      "Untitled.ipynb \u001b[1m\u001b[36mtxt_alltoall\u001b[m\u001b[m   \u001b[1m\u001b[36mtxt_barrier\u001b[m\u001b[m\n"
     ]
    }
   ],
   "source": [
    "import csv\n",
    "import numpy as np\n",
    "import seaborn as sns\n",
    "import pandas as pd\n",
    "\n",
    "! sh ~/Projects/coursework/mpi_collective/copy_txt_to_local.sh\n",
    "! rm -rf ./txt_barrier\n",
    "! rm -rf ./txt_alltoall\n",
    "! cp -r ~/Projects/coursework/mpi_collective/txt_barrier ./txt_barrier\n",
    "! cp -r ~/Projects/coursework/mpi_collective/txt_alltoall ./txt_alltoall\n",
    "! ls"
   ]
  },
  {
   "cell_type": "markdown",
   "metadata": {},
   "source": [
    "https://seaborn.pydata.org/examples/simple_violinplots.html\n"
   ]
  },
  {
   "cell_type": "code",
   "execution_count": 261,
   "metadata": {},
   "outputs": [],
   "source": [
    "def print_results(test_type):\n",
    "    txt_path = f\"./txt_{test_type}/{test_type}.txt\"\n",
    "    csv_path = f\"./txt_{test_type}/{test_type}.csv\"\n",
    "\n",
    "    with open(txt_path, \"r\") as txt_file:\n",
    "        for row in txt_file:\n",
    "            if row.startswith(test_type):\n",
    "                print(row, end=\"\")\n",
    "        \n",
    "    print()\n",
    "\n",
    "    with open(csv_path, newline='') as csv_file:\n",
    "        spamreader = csv.reader(csv_file, delimiter=',')\n",
    "        for row in spamreader:\n",
    "            a = []\n",
    "            for i in range(1, len(row)):\n",
    "                a.append(float(row[i][:8]))\n",
    "\n",
    "            timestr = row[0]\n",
    "            mean = sum(a)/len(a)\n",
    "            xmin = min(a)\n",
    "            xmax = max(a)\n",
    "            \n",
    "            print(f'{timestr}\\n{a}\\nmean = {mean}\\nmin = {xmin}\\nmax = {xmax}\\n')\n",
    "    \n",
    "    "
   ]
  },
  {
   "cell_type": "code",
   "execution_count": 262,
   "metadata": {},
   "outputs": [
    {
     "name": "stdout",
     "output_type": "stream",
     "text": [
      "barrier,100000,4.347500e+02,2022-04-20,19:19:09,19:26:24\n",
      "barrier,100000,2.601351e+00,2022-04-20,19:51:59,19:52:02\n",
      "barrier,100000,4.310270e+02,2022-04-20,21:06:51,21:14:02\n",
      "barrier,100000,8.295510e+02,2022-04-20,21:44:40,21:58:30\n",
      "barrier,100000,6.893832e+02,2022-04-21,16:46:49,16:58:19\n",
      "barrier,100000,4.842972e+02,2022-04-21,17:14:03,17:22:08\n",
      "barrier,100000,8.413594e+02,2022-04-21,17:22:29,17:36:31\n",
      "\n",
      "19:26:24\n",
      "[5.223199, 3.8763, 3.8844, 3.9684, 4.091, 4.0785, 4.5366, 4.8708, 4.3476, 4.600999]\n",
      "mean = 4.3477798000000005\n",
      "min = 3.8763\n",
      "max = 5.223199\n",
      "\n",
      "19:52:02\n",
      "[2.180212, 5.182201, 3.678012, 5.1764, 5.181793, 5.181835, 3.676441, 5.181898, 5.179036, 3.676697]\n",
      "mean = 4.4294525\n",
      "min = 2.180212\n",
      "max = 5.182201\n",
      "\n",
      "21:14:02\n",
      "[5.850099, 4.345999, 4.0414, 4.6531, 3.924599, 3.786801, 3.9044, 3.9278, 4.2258, 4.446202]\n",
      "mean = 4.310619999999999\n",
      "min = 3.786801\n",
      "max = 5.850099\n",
      "\n",
      "21:58:30\n",
      "[1.47372, 1.41079, 1.36895, 1.06475, 8.832901, 4.533, 4.0374, 3.8494, 4.2822, 4.2441]\n",
      "mean = 3.5097211\n",
      "min = 1.06475\n",
      "max = 8.832901\n",
      "\n",
      "16:58:19\n",
      "[1.072415, 6.718555, 5.988945, 5.735199, 5.608242, 6.312, 7.00866, 7.1239, 6.964963, 6.758514]\n",
      "mean = 5.929139299999999\n",
      "min = 1.072415\n",
      "max = 7.1239\n",
      "\n",
      "17:22:08\n",
      "[4.593499, 4.0417, 3.881401, 4.315399, 6.218799, 7.2756, 4.0896, 3.825, 5.3782, 4.812213]\n",
      "mean = 4.8431411\n",
      "min = 3.825\n",
      "max = 7.2756\n",
      "\n",
      "17:36:31\n",
      "[1.503074, 1.41829, 1.29869, 1.56734, 5.442401, 4.056499, 3.962, 4.0856, 4.222399, 4.498507]\n",
      "mean = 3.20548\n",
      "min = 1.29869\n",
      "max = 5.442401\n",
      "\n",
      "\n",
      "----------------------------------------------------------------------\n",
      "\n",
      "alltoall,100000,256,4.607070e+02,2022-04-20,18:54:30,19:02:11\n",
      "alltoall,100000,256,3.005681e+00,2022-04-20,19:53:41,19:53:44\n",
      "alltoall,100000,256,4.329120e+02,2022-04-20,20:57:59,21:05:12\n",
      "\n",
      "19:02:11\n",
      "[6.150199, 4.321499, 4.913799, 4.208798, 3.8204, 3.664099, 4.1168, 4.776599, 5.391499, 4.709298]\n",
      "mean = 4.607299\n",
      "min = 3.664099\n",
      "max = 6.150199\n",
      "\n",
      "19:53:44\n",
      "[3.462122, 2.769521, 2.770483, 4.449256, 2.619606, 3.050776, 2.770898, 2.771655, 2.621295, 2.771268]\n",
      "mean = 3.0056879999999997\n",
      "min = 2.619606\n",
      "max = 4.449256\n",
      "\n",
      "21:05:12\n",
      "[6.488798, 4.417599, 4.077599, 3.708399, 4.017399, 3.649199, 4.218799, 5.145199, 3.817799, 3.7557]\n",
      "mean = 4.329649\n",
      "min = 3.649199\n",
      "max = 6.488798\n",
      "\n"
     ]
    }
   ],
   "source": [
    "print_results(\"barrier\")\n",
    "print(f\"\\n{'-' * 70}\\n\")\n",
    "print_results(\"alltoall\")"
   ]
  },
  {
   "cell_type": "code",
   "execution_count": 263,
   "metadata": {},
   "outputs": [],
   "source": [
    "def get_results_data(test_type):\n",
    "    csv_path = f\"./txt_{test_type}/{test_type}.csv\"\n",
    "\n",
    "    with open(csv_path, newline='') as csv_file:\n",
    "        spamreader = csv.reader(csv_file, delimiter=',')\n",
    "        data = {}\n",
    "        for row in spamreader:\n",
    "            a = []\n",
    "            for i in range(1, len(row)):\n",
    "                a.append(float(row[i][:8]))\n",
    "\n",
    "            timestr = row[0]\n",
    "            data[timestr] = a\n",
    "        return pd.DataFrame(data)"
   ]
  },
  {
   "cell_type": "code",
   "execution_count": 264,
   "metadata": {},
   "outputs": [
    {
     "data": {
      "text/html": [
       "<div>\n",
       "<style scoped>\n",
       "    .dataframe tbody tr th:only-of-type {\n",
       "        vertical-align: middle;\n",
       "    }\n",
       "\n",
       "    .dataframe tbody tr th {\n",
       "        vertical-align: top;\n",
       "    }\n",
       "\n",
       "    .dataframe thead th {\n",
       "        text-align: right;\n",
       "    }\n",
       "</style>\n",
       "<table border=\"1\" class=\"dataframe\">\n",
       "  <thead>\n",
       "    <tr style=\"text-align: right;\">\n",
       "      <th></th>\n",
       "      <th>19:26:24</th>\n",
       "      <th>19:52:02</th>\n",
       "      <th>21:14:02</th>\n",
       "      <th>21:58:30</th>\n",
       "      <th>16:58:19</th>\n",
       "      <th>17:22:08</th>\n",
       "      <th>17:36:31</th>\n",
       "    </tr>\n",
       "  </thead>\n",
       "  <tbody>\n",
       "    <tr>\n",
       "      <th>0</th>\n",
       "      <td>5.223199</td>\n",
       "      <td>2.180212</td>\n",
       "      <td>5.850099</td>\n",
       "      <td>1.473720</td>\n",
       "      <td>1.072415</td>\n",
       "      <td>4.593499</td>\n",
       "      <td>1.503074</td>\n",
       "    </tr>\n",
       "    <tr>\n",
       "      <th>1</th>\n",
       "      <td>3.876300</td>\n",
       "      <td>5.182201</td>\n",
       "      <td>4.345999</td>\n",
       "      <td>1.410790</td>\n",
       "      <td>6.718555</td>\n",
       "      <td>4.041700</td>\n",
       "      <td>1.418290</td>\n",
       "    </tr>\n",
       "    <tr>\n",
       "      <th>2</th>\n",
       "      <td>3.884400</td>\n",
       "      <td>3.678012</td>\n",
       "      <td>4.041400</td>\n",
       "      <td>1.368950</td>\n",
       "      <td>5.988945</td>\n",
       "      <td>3.881401</td>\n",
       "      <td>1.298690</td>\n",
       "    </tr>\n",
       "    <tr>\n",
       "      <th>3</th>\n",
       "      <td>3.968400</td>\n",
       "      <td>5.176400</td>\n",
       "      <td>4.653100</td>\n",
       "      <td>1.064750</td>\n",
       "      <td>5.735199</td>\n",
       "      <td>4.315399</td>\n",
       "      <td>1.567340</td>\n",
       "    </tr>\n",
       "    <tr>\n",
       "      <th>4</th>\n",
       "      <td>4.091000</td>\n",
       "      <td>5.181793</td>\n",
       "      <td>3.924599</td>\n",
       "      <td>8.832901</td>\n",
       "      <td>5.608242</td>\n",
       "      <td>6.218799</td>\n",
       "      <td>5.442401</td>\n",
       "    </tr>\n",
       "    <tr>\n",
       "      <th>5</th>\n",
       "      <td>4.078500</td>\n",
       "      <td>5.181835</td>\n",
       "      <td>3.786801</td>\n",
       "      <td>4.533000</td>\n",
       "      <td>6.312000</td>\n",
       "      <td>7.275600</td>\n",
       "      <td>4.056499</td>\n",
       "    </tr>\n",
       "    <tr>\n",
       "      <th>6</th>\n",
       "      <td>4.536600</td>\n",
       "      <td>3.676441</td>\n",
       "      <td>3.904400</td>\n",
       "      <td>4.037400</td>\n",
       "      <td>7.008660</td>\n",
       "      <td>4.089600</td>\n",
       "      <td>3.962000</td>\n",
       "    </tr>\n",
       "    <tr>\n",
       "      <th>7</th>\n",
       "      <td>4.870800</td>\n",
       "      <td>5.181898</td>\n",
       "      <td>3.927800</td>\n",
       "      <td>3.849400</td>\n",
       "      <td>7.123900</td>\n",
       "      <td>3.825000</td>\n",
       "      <td>4.085600</td>\n",
       "    </tr>\n",
       "    <tr>\n",
       "      <th>8</th>\n",
       "      <td>4.347600</td>\n",
       "      <td>5.179036</td>\n",
       "      <td>4.225800</td>\n",
       "      <td>4.282200</td>\n",
       "      <td>6.964963</td>\n",
       "      <td>5.378200</td>\n",
       "      <td>4.222399</td>\n",
       "    </tr>\n",
       "    <tr>\n",
       "      <th>9</th>\n",
       "      <td>4.600999</td>\n",
       "      <td>3.676697</td>\n",
       "      <td>4.446202</td>\n",
       "      <td>4.244100</td>\n",
       "      <td>6.758514</td>\n",
       "      <td>4.812213</td>\n",
       "      <td>4.498507</td>\n",
       "    </tr>\n",
       "  </tbody>\n",
       "</table>\n",
       "</div>"
      ],
      "text/plain": [
       "   19:26:24  19:52:02  21:14:02  21:58:30  16:58:19  17:22:08  17:36:31\n",
       "0  5.223199  2.180212  5.850099  1.473720  1.072415  4.593499  1.503074\n",
       "1  3.876300  5.182201  4.345999  1.410790  6.718555  4.041700  1.418290\n",
       "2  3.884400  3.678012  4.041400  1.368950  5.988945  3.881401  1.298690\n",
       "3  3.968400  5.176400  4.653100  1.064750  5.735199  4.315399  1.567340\n",
       "4  4.091000  5.181793  3.924599  8.832901  5.608242  6.218799  5.442401\n",
       "5  4.078500  5.181835  3.786801  4.533000  6.312000  7.275600  4.056499\n",
       "6  4.536600  3.676441  3.904400  4.037400  7.008660  4.089600  3.962000\n",
       "7  4.870800  5.181898  3.927800  3.849400  7.123900  3.825000  4.085600\n",
       "8  4.347600  5.179036  4.225800  4.282200  6.964963  5.378200  4.222399\n",
       "9  4.600999  3.676697  4.446202  4.244100  6.758514  4.812213  4.498507"
      ]
     },
     "execution_count": 264,
     "metadata": {},
     "output_type": "execute_result"
    }
   ],
   "source": [
    "data = get_results_data(\"barrier\")\n",
    "# data = get_results_data(\"alltoall\")\n",
    "# data = data.drop(columns=['06:28:49'])\n",
    "data_mean = pd.DataFrame(data.mean(axis=0), columns=['mean'])\n",
    "data"
   ]
  },
  {
   "cell_type": "code",
   "execution_count": 265,
   "metadata": {},
   "outputs": [
    {
     "data": {
      "text/plain": [
       "[(1.0, 9.0), (-0.5, 6.5)]"
      ]
     },
     "execution_count": 265,
     "metadata": {},
     "output_type": "execute_result"
    },
    {
     "data": {
      "image/png": "[encoded data removed]",
      "text/plain": [
       "<Figure size 864x648 with 1 Axes>"
      ]
     },
     "metadata": {},
     "output_type": "display_data"
    }
   ],
   "source": [
    "sns.set_theme()\n",
    "sns.set(rc={'figure.figsize':(12, 9)})\n",
    "sns.violinplot(data=data, palette=\"light:g\", cut=0, inner=\"points\", bw=0.3)\n",
    "sns.scatterplot(data=data_mean, palette=['blue'], s=150, markers=['X'])\\\n",
    ".set(xlim=(-0.5, len(data.columns) - 0.5), ylim=(1, 9))"
   ]
  },
  {
   "cell_type": "code",
   "execution_count": null,
   "metadata": {},
   "outputs": [],
   "source": []
  },
  {
   "cell_type": "code",
   "execution_count": null,
   "metadata": {},
   "outputs": [],
   "source": []
  },
  {
   "cell_type": "code",
   "execution_count": null,
   "metadata": {},
   "outputs": [],
   "source": []
  },
  {
   "cell_type": "code",
   "execution_count": null,
   "metadata": {},
   "outputs": [],
   "source": []
  },
  {
   "cell_type": "code",
   "execution_count": null,
   "metadata": {},
   "outputs": [],
   "source": []
  },
  {
   "cell_type": "code",
   "execution_count": null,
   "metadata": {},
   "outputs": [],
   "source": []
  },
  {
   "cell_type": "code",
   "execution_count": null,
   "metadata": {},
   "outputs": [],
   "source": []
  },
  {
   "cell_type": "code",
   "execution_count": 248,
   "metadata": {},
   "outputs": [],
   "source": [
    "! cp ./Untitled.ipynb ~/Projects/coursework/mpi_collective/Untitled.ipynb"
   ]
  }
 ],
 "metadata": {
  "kernelspec": {
   "display_name": "Python 3",
   "language": "python",
   "name": "python3"
  },
  "language_info": {
   "codemirror_mode": {
    "name": "ipython",
    "version": 3
   },
   "file_extension": ".py",
   "mimetype": "text/x-python",
   "name": "python",
   "nbconvert_exporter": "python",
   "pygments_lexer": "ipython3",
   "version": "3.7.4"
  }
 },
 "nbformat": 4,
 "nbformat_minor": 4
}
